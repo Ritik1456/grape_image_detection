{
 "cells": [
  {
   "cell_type": "markdown",
   "metadata": {
    "id": "_JdWFF5eD8n2"
   },
   "source": [
    "### Import the packages (Run on Jupyter)"
   ]
  },
  {
   "cell_type": "code",
   "execution_count": null,
   "metadata": {
    "id": "q4C5cneWD8oK"
   },
   "outputs": [],
   "source": [
    "import pathlib\n",
    "import os\n",
    "from os import listdir\n",
    "from os.path import isfile, join\n",
    "import matplotlib.image as mpimg\n",
    "import matplotlib.pyplot as plt"
   ]
  },
  {
   "cell_type": "markdown",
   "metadata": {
    "id": "40j3oq1AD8oM"
   },
   "source": [
    "**CustomObjectDetection** class provides very convenient and powerful methods to perform object detection on images and extract each object from the image using your own custom YOLOv3 model and the corresponding detection_config.json generated during the training"
   ]
  },
  {
   "cell_type": "code",
   "execution_count": null,
   "metadata": {
    "id": "YmxVbwlJD8oh"
   },
   "outputs": [],
   "source": [
    "from imageai.Detection.Custom import CustomObjectDetection"
   ]
  },
  {
   "cell_type": "markdown",
   "metadata": {
    "id": "dyFeYPu9D8oi"
   },
   "source": [
    "### Class made for Object Detection"
   ]
  },
  {
   "cell_type": "code",
   "execution_count": null,
   "metadata": {
    "id": "-bIGqkg3D8oj"
   },
   "outputs": [],
   "source": [
    "##put your trained model inside the model folder and change the name in parameter\n",
    "class object_detection():\n",
    "    \n",
    "    ##Inputs: \n",
    "    ## image_path: Provide the Path of the Folder having input images or Path of single Input Image\n",
    "    ## Is_Folder: If 'image_path' is path of a folder then True, If 'image_path' is path of a single image then False\n",
    "    ## model_name: Name of the model\n",
    "    ## json: name detection_config.json generated during training\n",
    "    ## minimum_percentage_probability : This parameter is used to determine the integrity of the detection results. \n",
    "    ##Lowering the value shows more objects while increasing the value ensures objects with the highest accuracy are detected. The default value is 50\n",
    "    \n",
    "    def __init__(self,image_path,Is_Folder,model_name = 'detection_model-ex-042--loss-0042.421.h5',json = 'detection_config.json',minperprobab = 45):\n",
    "        \n",
    "        \n",
    "        self.model_name = model_name\n",
    "        self.json = json\n",
    "        self.minperprobab = minperprobab\n",
    "        self.image_path = image_path\n",
    "        self.is_folder = Is_Folder\n",
    "        self.Detect()\n",
    "        \n",
    "    def object_detection_nshow(self,path):\n",
    "        ##  method to perform object detection and showing the coordinates of box and image on images using \n",
    "        ## custom YOLOv3 model and the corresponding detection_config.json. This method also saves the output\n",
    "        ## images in the ImageAI_OCR folder in the directory \n",
    "        \n",
    "        detector = CustomObjectDetection()\n",
    "        detector.setModelTypeAsYOLOv3()\n",
    "        detector.setModelPath(self.path_crnt_directory() + '\\\\model\\\\'+ self.model_name)\n",
    "        detector.setJsonPath(self.path_crnt_directory()+'\\\\json\\\\'+ self.json)\n",
    "        detector.loadModel()\n",
    "        detections = detector.detectObjectsFromImage(input_image=path, output_image_path= (self.path_crnt_directory() +'\\\\ImageAI_OCR\\\\'+ '_detected'+ self.pathstr2file_name(path)), minimum_percentage_probability=self.minperprobab)\n",
    "        detec = []\n",
    "        for detection in detections:\n",
    "            print(detection[\"name\"], \" : \", detection[\"percentage_probability\"], \" : \", detection[\"box_points\"])\n",
    "        img = mpimg.imread((self.path_crnt_directory() +'\\\\ImageAI_OCR\\\\'+ '_detected'+ self.pathstr2file_name(path)))\n",
    "        plt.axis(\"off\")\n",
    "        plt.figure(figsize=(25,15))\n",
    "        plt.imshow(img)\n",
    "        plt.show()\n",
    "\n",
    "  \n",
    "    def path_crnt_directory(self):\n",
    "        ## Provides path of current directory\n",
    "        import pathlib\n",
    "        pathlib.Path().absolute()\n",
    "        my_path = pathlib.Path().absolute().__str__()\n",
    "        return my_path\n",
    "                      \n",
    "        \n",
    "        \n",
    "    def pathstr2file_name(self,path):\n",
    "        ## Gives the name of the file from a file path string\n",
    "        return os.path.basename(path)\n",
    "    \n",
    "    \n",
    "    \n",
    "    def Detect(self):\n",
    "        ## Checks whether path is of folder or image and calls object_detection_n_show function accordingly\n",
    "        if self.is_folder:\n",
    "            image_path_list = self.get_file_path_in_folder(self.image_path)\n",
    "            for img in image_path_list:\n",
    "                self.object_detection_nshow(img)\n",
    "        else:\n",
    "            self.object_detection_nshow(self.image_path)\n",
    "        \n",
    "        \n",
    "        \n",
    "        \n",
    "    def get_file_path_in_folder(self,path):\n",
    "        ## get the path for all the image files from inside the folder of which the path is provided \n",
    "        onlyfiles = [(path+ '\\\\' + f) for f in listdir(path) if isfile(join(path, f))]\n",
    "        return onlyfiles"
   ]
  },
  {
   "cell_type": "markdown",
   "metadata": {
    "id": "PYP0cCCVD8on"
   },
   "source": [
    "##### Annotations lines are very fine so please kindly see carefully or zoom in"
   ]
  },
  {
   "cell_type": "code",
   "execution_count": null,
   "metadata": {
    "id": "rDi-mUPTD8oq"
   },
   "outputs": [],
   "source": [
    "object_detection(r'..\\folderInputimage',True)         ## for folder path"
   ]
  },
  {
   "cell_type": "code",
   "execution_count": null,
   "metadata": {
    "id": "s8Sb7PzeD8or"
   },
   "outputs": [],
   "source": [
    "object_detection(r'...\\folder\\image.jpg',False)   ## for image path"
   ]
  },
  {
   "cell_type": "code",
   "execution_count": null,
   "metadata": {
    "id": "UapHo2RFD8os"
   },
   "outputs": [],
   "source": []
  },
  {
   "cell_type": "code",
   "execution_count": null,
   "metadata": {
    "id": "POydP2aWD8ot"
   },
   "outputs": [],
   "source": []
  },
  {
   "cell_type": "code",
   "execution_count": null,
   "metadata": {
    "id": "oXBQsQLFD8ov"
   },
   "outputs": [],
   "source": []
  },
  {
   "cell_type": "code",
   "execution_count": null,
   "metadata": {
    "id": "-W1wFtFVD8oy"
   },
   "outputs": [],
   "source": []
  }
 ],
 "metadata": {
  "colab": {
   "name": "Grape_Detection.ipynb",
   "provenance": []
  },
  "kernelspec": {
   "display_name": "Python 3",
   "language": "python",
   "name": "python3"
  },
  "language_info": {
   "codemirror_mode": {
    "name": "ipython",
    "version": 3
   },
   "file_extension": ".py",
   "mimetype": "text/x-python",
   "name": "python",
   "nbconvert_exporter": "python",
   "pygments_lexer": "ipython3",
   "version": "3.7.4"
  }
 },
 "nbformat": 4,
 "nbformat_minor": 1
}
